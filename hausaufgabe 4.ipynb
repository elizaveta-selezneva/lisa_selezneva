{
 "cells": [
  {
   "cell_type": "code",
   "execution_count": 16,
   "metadata": {},
   "outputs": [
    {
     "data": {
      "text/plain": [
       "7"
      ]
     },
     "execution_count": 16,
     "metadata": {},
     "output_type": "execute_result"
    }
   ],
   "source": [
    "sp = [1, 2, 3, 4, 4, 4, 5]\n",
    "len(sp)"
   ]
  },
  {
   "cell_type": "code",
   "execution_count": 21,
   "metadata": {},
   "outputs": [
    {
     "data": {
      "text/plain": [
       "[1, 2, 3, 4, 4, 4, 5, 'numbers']"
      ]
     },
     "execution_count": 21,
     "metadata": {},
     "output_type": "execute_result"
    }
   ],
   "source": [
    "sp = [1, 2, 3, 4, 4, 4, 5]\n",
    "sp.append ('numbers')\n",
    "sp"
   ]
  },
  {
   "cell_type": "code",
   "execution_count": 2,
   "metadata": {},
   "outputs": [
    {
     "data": {
      "text/plain": [
       "[1, 2, 3, 4, 4, 4, 5, 'Rachel', 'Phoebe', 'Ross', 'Chandler', 'Monica', 'Joey']"
      ]
     },
     "execution_count": 2,
     "metadata": {},
     "output_type": "execute_result"
    }
   ],
   "source": [
    "sp = [1, 2, 3, 4, 4, 4, 5]\n",
    "friends = ['Rachel','Phoebe','Ross','Chandler','Monica','Joey']\n",
    "sp + friends"
   ]
  },
  {
   "cell_type": "code",
   "execution_count": 22,
   "metadata": {},
   "outputs": [
    {
     "data": {
      "text/plain": [
       "[1, 10, 4, 4, 4, 5]"
      ]
     },
     "execution_count": 22,
     "metadata": {},
     "output_type": "execute_result"
    }
   ],
   "source": [
    "sp = [1, 2, 3, 4, 4, 4, 5]\n",
    "sp.remove(3)\n",
    "sp[1] = 10\n",
    "sp"
   ]
  },
  {
   "cell_type": "code",
   "execution_count": 23,
   "metadata": {},
   "outputs": [
    {
     "data": {
      "text/plain": [
       "[1, 2, 3, 4, 4, 4, 5]"
      ]
     },
     "execution_count": 23,
     "metadata": {},
     "output_type": "execute_result"
    }
   ],
   "source": [
    "sp = [1, 2, 3, 4, 4, 4, 5]\n",
    "sp.count(4)\n",
    "sp"
   ]
  },
  {
   "cell_type": "code",
   "execution_count": 24,
   "metadata": {},
   "outputs": [
    {
     "data": {
      "text/plain": [
       "1"
      ]
     },
     "execution_count": 24,
     "metadata": {},
     "output_type": "execute_result"
    }
   ],
   "source": [
    "mytuple = (1, 2, 3)\n",
    "mytuple.count(2)"
   ]
  },
  {
   "cell_type": "code",
   "execution_count": 27,
   "metadata": {},
   "outputs": [
    {
     "data": {
      "text/plain": [
       "1"
      ]
     },
     "execution_count": 27,
     "metadata": {},
     "output_type": "execute_result"
    }
   ],
   "source": [
    "mytuple = (1, 2, 3)\n",
    "mytuple.index(2)"
   ]
  },
  {
   "cell_type": "code",
   "execution_count": 1,
   "metadata": {},
   "outputs": [
    {
     "name": "stdout",
     "output_type": "stream",
     "text": [
      "Hello, Rachel!\n",
      "Hello, Phoebe!\n",
      "Hello, Ross!\n",
      "Hello, Chandler!\n",
      "Hello, Monica!\n",
      "Hello, Joey!\n",
      "Hello, everyone!\n"
     ]
    }
   ],
   "source": [
    "friends = ['Rachel','Phoebe','Ross','Chandler','Monica','Joey']\n",
    "for friend in friends:\n",
    "    print(\"Hello, \" + friend + \"!\")\n",
    "print(\"Hello, everyone!\")"
   ]
  },
  {
   "cell_type": "code",
   "execution_count": 1,
   "metadata": {},
   "outputs": [
    {
     "name": "stdout",
     "output_type": "stream",
     "text": [
      "[-2, 5, 16]\n"
     ]
    }
   ],
   "source": [
    "list1 = [1, 2, 3]\n",
    "list2 = [-3, 3, 13]\n",
    "list3 = []\n",
    "k = 0\n",
    "for k in range(len(list1)):\n",
    "    x = list1[k] + list2[k]\n",
    "    k += 1\n",
    "    list3.append(x)\n",
    "print(list3)"
   ]
  },
  {
   "cell_type": "code",
   "execution_count": 5,
   "metadata": {},
   "outputs": [
    {
     "name": "stdout",
     "output_type": "stream",
     "text": [
      "Введите три числа через пробел 5 6 6\n",
      "Треугольник равнобедренный\n"
     ]
    }
   ],
   "source": [
    "\n",
    "s = str(input('Введите три числа через пробел '))\n",
    "##ввела три числа в одной строке\n",
    "a, b, c = [float(i) for i in s.strip().split(\" \")]\n",
    "##разделила строку и преобразовала каждый из её элементов в число, s.strip добавила, т.к. вначале выдавала ошибку из-за лишнего пробела\n",
    "if a + b <= c or a + c <= b or c + b <= a:\n",
    "    print('Это не треугольник')\n",
    "else:\n",
    "    if (a == b and a == c)  or (b == c and b == a):\n",
    "        print('Треугольник равносторонний')\n",
    "    elif (a == b) or (b == c) or (a == c):\n",
    "        print('Треугольник равнобедренный')\n",
    "    else:\n",
    "        print('Треугольник разносторонний')"
   ]
  },
  {
   "cell_type": "code",
   "execution_count": 62,
   "metadata": {},
   "outputs": [
    {
     "data": {
      "text/plain": [
       "[6, 5, 4, 3, 2, 1]"
      ]
     },
     "execution_count": 62,
     "metadata": {},
     "output_type": "execute_result"
    }
   ],
   "source": [
    "##переворачивание листа\n",
    "mylist = [1, 2, 3, 4, 5, 6]\n",
    "list(reversed(mylist))"
   ]
  },
  {
   "cell_type": "code",
   "execution_count": 8,
   "metadata": {},
   "outputs": [
    {
     "name": "stdout",
     "output_type": "stream",
     "text": [
      "[6, 5, 4, 3, 2, 1]\n"
     ]
    }
   ],
   "source": [
    "##переворачивание листа\n",
    "mylist = [1, 2, 3, 4, 5, 6]\n",
    "list3 = []\n",
    "for i in mylist[::-1]:\n",
    "    list3.append(i)\n",
    "print(list3)"
   ]
  },
  {
   "cell_type": "code",
   "execution_count": 18,
   "metadata": {},
   "outputs": [
    {
     "name": "stdout",
     "output_type": "stream",
     "text": [
      "74\n"
     ]
    }
   ],
   "source": [
    "##отбор четных чисел и их сложение\n",
    "interesting_numbers = (3, 2, 5, 7, 14, 26, 32, 31, 37)\n",
    "list1 = [i for i in interesting_numbers if i % 2 == 0]\n",
    "b = sum(list1)\n",
    "print(b)"
   ]
  }
 ],
 "metadata": {
  "kernelspec": {
   "display_name": "Python 3",
   "language": "python",
   "name": "python3"
  },
  "language_info": {
   "codemirror_mode": {
    "name": "ipython",
    "version": 3
   },
   "file_extension": ".py",
   "mimetype": "text/x-python",
   "name": "python",
   "nbconvert_exporter": "python",
   "pygments_lexer": "ipython3",
   "version": "3.7.2"
  }
 },
 "nbformat": 4,
 "nbformat_minor": 2
}
