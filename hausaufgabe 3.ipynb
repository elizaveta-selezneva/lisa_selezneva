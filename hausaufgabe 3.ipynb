{
 "cells": [
  {
   "cell_type": "code",
   "execution_count": 10,
   "metadata": {},
   "outputs": [
    {
     "name": "stdout",
     "output_type": "stream",
     "text": [
      "Введите целое число 10\n"
     ]
    },
    {
     "data": {
      "text/plain": [
       "10.0"
      ]
     },
     "execution_count": 10,
     "metadata": {},
     "output_type": "execute_result"
    }
   ],
   "source": [
    "a = int(input('Введите целое число '))\n",
    "float (a)"
   ]
  },
  {
   "cell_type": "code",
   "execution_count": 1,
   "metadata": {},
   "outputs": [
    {
     "name": "stdout",
     "output_type": "stream",
     "text": [
      "Введите дробное число 2.33\n"
     ]
    },
    {
     "data": {
      "text/plain": [
       "2"
      ]
     },
     "execution_count": 1,
     "metadata": {},
     "output_type": "execute_result"
    }
   ],
   "source": [
    "a = float(input('Введите дробное число '))\n",
    "int(a)"
   ]
  },
  {
   "cell_type": "code",
   "execution_count": 2,
   "metadata": {},
   "outputs": [
    {
     "name": "stdout",
     "output_type": "stream",
     "text": [
      "Введите целое число 45\n"
     ]
    },
    {
     "data": {
      "text/plain": [
       "'45'"
      ]
     },
     "execution_count": 2,
     "metadata": {},
     "output_type": "execute_result"
    }
   ],
   "source": [
    "a = int(input('Введите целое число '))\n",
    "str(a)"
   ]
  },
  {
   "cell_type": "code",
   "execution_count": 5,
   "metadata": {},
   "outputs": [
    {
     "name": "stdout",
     "output_type": "stream",
     "text": [
      "Введите дробное число 0.53\n"
     ]
    },
    {
     "data": {
      "text/plain": [
       "'0.53'"
      ]
     },
     "execution_count": 5,
     "metadata": {},
     "output_type": "execute_result"
    }
   ],
   "source": [
    "a = float(input('Введите дробное число '))\n",
    "str(a)"
   ]
  },
  {
   "cell_type": "code",
   "execution_count": 6,
   "metadata": {},
   "outputs": [
    {
     "name": "stdout",
     "output_type": "stream",
     "text": [
      "Введите строку 65\n"
     ]
    },
    {
     "data": {
      "text/plain": [
       "65"
      ]
     },
     "execution_count": 6,
     "metadata": {},
     "output_type": "execute_result"
    }
   ],
   "source": [
    "a = str(input('Введите строку '))\n",
    "int(a)"
   ]
  },
  {
   "cell_type": "code",
   "execution_count": null,
   "metadata": {},
   "outputs": [],
   "source": [
    "a = str(input('Введите строку '))\n",
    "float(a)"
   ]
  },
  {
   "cell_type": "code",
   "execution_count": 9,
   "metadata": {},
   "outputs": [
    {
     "name": "stdout",
     "output_type": "stream",
     "text": [
      "Введите число 67\n",
      "Введите число 18\n",
      "Результат вычислений  314\n"
     ]
    }
   ],
   "source": [
    "a = int(input('Введите число '))\n",
    "b = int(input('Введите число '))\n",
    "c = b**2 - 10\n",
    "print ('Результат вычислений ', c)\n"
   ]
  },
  {
   "cell_type": "code",
   "execution_count": 26,
   "metadata": {
    "scrolled": false
   },
   "outputs": [
    {
     "name": "stdout",
     "output_type": "stream",
     "text": [
      "Введите число 4\n",
      "Введите число 5\n",
      "Результат вычислений  758\n"
     ]
    }
   ],
   "source": [
    "from math import exp\n",
    "a = int(input('Введите число '))\n",
    "b = int(input('Введите число '))\n",
    "c = a ** 2 + 5 * (exp(b))\n",
    "c = round(c)\n",
    "print ('Результат вычислений ', c)"
   ]
  },
  {
   "cell_type": "code",
   "execution_count": 1,
   "metadata": {},
   "outputs": [
    {
     "name": "stdout",
     "output_type": "stream",
     "text": [
      "Введите число 4\n",
      "Введите число 56\n",
      "Результат вычислений  136\n"
     ]
    }
   ],
   "source": [
    "a = int(input('Введите число '))\n",
    "b = int(input('Введите число '))\n",
    "c = 20 * a + b**(a-3)\n",
    "print('Результат вычислений ', c)"
   ]
  },
  {
   "cell_type": "code",
   "execution_count": 5,
   "metadata": {
    "scrolled": true
   },
   "outputs": [
    {
     "name": "stdout",
     "output_type": "stream",
     "text": [
      "Введите целое число 67\n",
      "Число  67  не делится ни на 3, ни на 5\n"
     ]
    }
   ],
   "source": [
    "a = int(input('Введите целое число '))\n",
    "if a % 3 == 0 and a % 5 !=0:\n",
    "    print('fizz')\n",
    "elif a % 5 == 0 and a % 3 != 0:\n",
    "    print('buzz')\n",
    "elif a % 15 == 0:\n",
    "    print('fizzbuzz')\n",
    "else: \n",
    "    print('Число ', a, ' не делится ни на 3, ни на 5')"
   ]
  },
  {
   "cell_type": "code",
   "execution_count": 9,
   "metadata": {},
   "outputs": [
    {
     "name": "stdout",
     "output_type": "stream",
     "text": [
      " a \t b \t a xor b\n",
      "True \t False \t True\n",
      "False \t True \t True\n",
      "True \t True \t False\n",
      "False \t False \t False\n"
     ]
    }
   ],
   "source": [
    "##таблица истинности для xor\n",
    "print('','a', '\\t', 'b', '\\t', 'a xor b')\n",
    "print(True, '\\t', False, '\\t', ((True and not False) or (not True and False)))\n",
    "print(False, '\\t', True, '\\t', ((False and not True) or (not False and True)))\n",
    "print(True, '\\t', True, '\\t', ((True and not True) or (not True and True)))\n",
    "print(False, '\\t', False, '\\t', ((False and not False) or (not False and False)))"
   ]
  },
  {
   "cell_type": "code",
   "execution_count": 7,
   "metadata": {},
   "outputs": [
    {
     "name": "stdout",
     "output_type": "stream",
     "text": [
      " a \t \t not a\n",
      "True \t \t False\n",
      "False \t \t True\n"
     ]
    }
   ],
   "source": [
    "## таблица истинности для not\n",
    "print('','a', '\\t', '\\t', 'not a')\n",
    "print(True, '\\t', '\\t', ((False)))\n",
    "print(False, '\\t', '\\t', ((True)))"
   ]
  },
  {
   "cell_type": "code",
   "execution_count": 11,
   "metadata": {},
   "outputs": [
    {
     "name": "stdout",
     "output_type": "stream",
     "text": [
      " a \t b \t a and b\n",
      "True \t True \t True\n",
      "False \t True \t True\n",
      "True \t False \t True\n",
      "False \t False \t False\n"
     ]
    }
   ],
   "source": [
    "## таблица истинности для and\n",
    "print('','a', '\\t', 'b', '\\t', 'a and b')\n",
    "print(True, '\\t', True, '\\t', ((True)))\n",
    "print(False, '\\t', True, '\\t', ((True)))\n",
    "print(True, '\\t', False, '\\t', ((True)))\n",
    "print(False, '\\t', False, '\\t', ((False)))"
   ]
  },
  {
   "cell_type": "code",
   "execution_count": 12,
   "metadata": {},
   "outputs": [
    {
     "name": "stdout",
     "output_type": "stream",
     "text": [
      " a \t b \t a or b\n",
      "True \t True \t True\n",
      "False \t True \t True\n",
      "True \t False \t False\n",
      "False \t False \t False\n"
     ]
    }
   ],
   "source": [
    "## таблица истинности для or\n",
    "print('','a', '\\t', 'b', '\\t', 'a or b')\n",
    "print(True, '\\t', True, '\\t', ((True)))\n",
    "print(False, '\\t', True, '\\t', ((True)))\n",
    "print(True, '\\t', False, '\\t', ((True)))\n",
    "print(False, '\\t', False, '\\t', ((False)))"
   ]
  },
  {
   "cell_type": "code",
   "execution_count": 13,
   "metadata": {},
   "outputs": [
    {
     "name": "stdout",
     "output_type": "stream",
     "text": [
      " a \t b \t a or b\n",
      "True \t True \t False\n",
      "False \t True \t False\n",
      "True \t False \t False\n",
      "False \t False \t True\n"
     ]
    }
   ],
   "source": [
    "## таблица истинности для nor\n",
    "print('','a', '\\t', 'b', '\\t', 'a or b')\n",
    "print(True, '\\t', True, '\\t', ((False)))\n",
    "print(False, '\\t', True, '\\t', ((False)))\n",
    "print(True, '\\t', False, '\\t', ((False)))\n",
    "print(False, '\\t', False, '\\t', ((True)))"
   ]
  },
  {
   "cell_type": "code",
   "execution_count": null,
   "metadata": {},
   "outputs": [],
   "source": [
    "## таблица истинности для nand\n",
    "print('','a', '\\t', 'b', '\\t', 'a or b')\n",
    "print(True, '\\t', True, '\\t', ((False)))\n",
    "print(False, '\\t', True, '\\t', ((True)))\n",
    "print(True, '\\t', False, '\\t', ((True))\n",
    "print(False, '\\t', False, '\\t', ((True)))"
   ]
  }
 ],
 "metadata": {
  "kernelspec": {
   "display_name": "Python 3",
   "language": "python",
   "name": "python3"
  },
  "language_info": {
   "codemirror_mode": {
    "name": "ipython",
    "version": 3
   },
   "file_extension": ".py",
   "mimetype": "text/x-python",
   "name": "python",
   "nbconvert_exporter": "python",
   "pygments_lexer": "ipython3",
   "version": "3.7.2"
  }
 },
 "nbformat": 4,
 "nbformat_minor": 2
}
