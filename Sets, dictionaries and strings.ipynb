{
 "cells": [
  {
   "cell_type": "code",
   "execution_count": 1,
   "metadata": {
    "scrolled": true
   },
   "outputs": [
    {
     "name": "stdout",
     "output_type": "stream",
     "text": [
      "{1, 2, 3, 4, 5, 343}\n"
     ]
    }
   ],
   "source": [
    "my_set = {1, 2, 3, 4, 5}\n",
    "my_set.add(343)\n",
    "print(my_set)"
   ]
  },
  {
   "cell_type": "code",
   "execution_count": 2,
   "metadata": {},
   "outputs": [
    {
     "name": "stdout",
     "output_type": "stream",
     "text": [
      "{1, 2, 3, 4, 5, 'witness'}\n"
     ]
    }
   ],
   "source": [
    "my_set = {1, 2, 3, 4, 5}\n",
    "my_set.add(\"witness\")\n",
    "print(my_set)"
   ]
  },
  {
   "cell_type": "code",
   "execution_count": 4,
   "metadata": {},
   "outputs": [
    {
     "name": "stdout",
     "output_type": "stream",
     "text": [
      "{1, 2, 3, 4, 5, 6, 7, 8}\n"
     ]
    }
   ],
   "source": [
    "#объединение множеств\n",
    "set1 = {1, 2, 3, 4, 5, 6, 7}\n",
    "set2 = {4, 5, 6, 7, 8, 9, 10, 11, 12}\n",
    "all_sets = set1.union(set2)\n",
    "print(all_sets)"
   ]
  },
  {
   "cell_type": "code",
   "execution_count": 5,
   "metadata": {},
   "outputs": [
    {
     "name": "stdout",
     "output_type": "stream",
     "text": [
      "{4, 5}\n"
     ]
    }
   ],
   "source": [
    "#пересечение множеств\n",
    "set1 = {1, 2, 3, 4, 5, 6, 7}\n",
    "set2 = {4, 5, 6, 7, 8, 9, 10, 11, 12}\n",
    "print(set1 & set2)"
   ]
  },
  {
   "cell_type": "code",
   "execution_count": 7,
   "metadata": {},
   "outputs": [
    {
     "name": "stdout",
     "output_type": "stream",
     "text": [
      "{8, 9, 10, 11, 12}\n"
     ]
    }
   ],
   "source": [
    "#вычитание множеств\n",
    "set1 = {1, 2, 3, 4, 5, 6, 7}\n",
    "set2 = {4, 5, 6, 7, 8, 9, 10, 11, 12}\n",
    "set_dif = set2.difference(set1)\n",
    "print(set_dif)"
   ]
  },
  {
   "cell_type": "code",
   "execution_count": 8,
   "metadata": {},
   "outputs": [
    {
     "name": "stdout",
     "output_type": "stream",
     "text": [
      "{1, 2, 3, 8, 9, 10, 11, 12}\n"
     ]
    }
   ],
   "source": [
    "#симметричное вычитание\n",
    "set1 = {1, 2, 3, 4, 5, 6, 7}\n",
    "set2 = {4, 5, 6, 7, 8, 9, 10, 11, 12}\n",
    "set_diff = set1.symmetric_difference(set2)\n",
    "print(set_diff)"
   ]
  },
  {
   "cell_type": "code",
   "execution_count": 10,
   "metadata": {},
   "outputs": [
    {
     "name": "stdout",
     "output_type": "stream",
     "text": [
      "False\n"
     ]
    }
   ],
   "source": [
    "#проверка на вхождение одного сэта в другой, так как множества пересекаются, выдает False\n",
    "set1 = {1, 2, 3, 4, 5, 6, 7}\n",
    "set2 = {4, 5, 6, 7, 8, 9, 10, 11, 12}\n",
    "antwort = set1.isdisjoint(set2) \n",
    "print(antwort)"
   ]
  },
  {
   "cell_type": "code",
   "execution_count": 11,
   "metadata": {},
   "outputs": [
    {
     "name": "stdout",
     "output_type": "stream",
     "text": [
      "Paris\n"
     ]
    }
   ],
   "source": [
    "countries = {\"France\":\"Paris\", \"Italy\":\"Rome\", \"Germany\":\"Berlin\"}\n",
    "print(countries[\"France\"])"
   ]
  },
  {
   "cell_type": "code",
   "execution_count": 15,
   "metadata": {},
   "outputs": [
    {
     "name": "stdout",
     "output_type": "stream",
     "text": [
      "countries['Great Britain']:  London\n"
     ]
    }
   ],
   "source": [
    "countries = {\"France\":\"Paris\", \"Italy\":\"Rome\", \"Germany\":\"Berlin\"}\n",
    "countries[\"Great Britain\"] = \"London\"\n",
    "print (\"countries['Great Britain']: \", countries['Great Britain'])"
   ]
  },
  {
   "cell_type": "code",
   "execution_count": 17,
   "metadata": {},
   "outputs": [
    {
     "ename": "KeyError",
     "evalue": "'Great Britain'",
     "output_type": "error",
     "traceback": [
      "\u001b[1;31m---------------------------------------------------------------------------\u001b[0m",
      "\u001b[1;31mKeyError\u001b[0m                                  Traceback (most recent call last)",
      "\u001b[1;32m<ipython-input-17-ae1ee4de6492>\u001b[0m in \u001b[0;36m<module>\u001b[1;34m\u001b[0m\n\u001b[0;32m      3\u001b[0m \u001b[0mcountries\u001b[0m\u001b[1;33m[\u001b[0m\u001b[1;34m\"Great Britain\"\u001b[0m\u001b[1;33m]\u001b[0m \u001b[1;33m=\u001b[0m \u001b[1;34m\"London\"\u001b[0m\u001b[1;33m\u001b[0m\u001b[1;33m\u001b[0m\u001b[0m\n\u001b[0;32m      4\u001b[0m \u001b[1;32mdel\u001b[0m \u001b[0mcountries\u001b[0m\u001b[1;33m[\u001b[0m\u001b[1;34m\"Great Britain\"\u001b[0m\u001b[1;33m]\u001b[0m\u001b[1;33m\u001b[0m\u001b[1;33m\u001b[0m\u001b[0m\n\u001b[1;32m----> 5\u001b[1;33m \u001b[0mprint\u001b[0m\u001b[1;33m(\u001b[0m\u001b[0mcountries\u001b[0m\u001b[1;33m[\u001b[0m\u001b[1;34m\"Great Britain\"\u001b[0m\u001b[1;33m]\u001b[0m\u001b[1;33m)\u001b[0m\u001b[1;33m\u001b[0m\u001b[1;33m\u001b[0m\u001b[0m\n\u001b[0m",
      "\u001b[1;31mKeyError\u001b[0m: 'Great Britain'"
     ]
    }
   ],
   "source": [
    "countries = {\"France\":\"Paris\", \"Italy\":\"Rome\", \"Germany\":\"Berlin\"}\n",
    "#добавляем элемент, а затем удаляем его\n",
    "countries[\"Great Britain\"] = \"London\"\n",
    "del countries[\"Great Britain\"]\n",
    "print(countries[\"Great Britain\"])"
   ]
  },
  {
   "cell_type": "code",
   "execution_count": 19,
   "metadata": {},
   "outputs": [
    {
     "data": {
      "text/plain": [
       "['France', 'Germany', 'Great Britain', 'Italy']"
      ]
     },
     "execution_count": 19,
     "metadata": {},
     "output_type": "execute_result"
    }
   ],
   "source": [
    "countries = {\"France\":\"Paris\", \"Italy\":\"Rome\", \"Germany\":\"Berlin\"}\n",
    "countries[\"Great Britain\"] = \"London\"\n",
    "sorted(countries)"
   ]
  },
  {
   "cell_type": "code",
   "execution_count": 20,
   "metadata": {},
   "outputs": [
    {
     "data": {
      "text/plain": [
       "{'France': 'Paris', 'Italy': 'Rome', 'Germany': 'Berlin'}"
      ]
     },
     "execution_count": 20,
     "metadata": {},
     "output_type": "execute_result"
    }
   ],
   "source": [
    "countries = {\"France\":\"Paris\", \"Italy\":\"Rome\", \"Germany\":\"Berlin\"}\n",
    "dict([('France', 'Paris'), ('Italy', 'Rome'), ('Germany', 'Berlin')])"
   ]
  },
  {
   "cell_type": "code",
   "execution_count": 21,
   "metadata": {},
   "outputs": [
    {
     "name": "stdout",
     "output_type": "stream",
     "text": [
      "France Paris\n",
      "Italy Rome\n",
      "Germany Berlin\n"
     ]
    }
   ],
   "source": [
    "countries = {\"France\":\"Paris\", \"Italy\":\"Rome\", \"Germany\":\"Berlin\"}\n",
    "for key in countries:\n",
    "    print(key, countries[key])"
   ]
  },
  {
   "cell_type": "code",
   "execution_count": 49,
   "metadata": {},
   "outputs": [
    {
     "name": "stdout",
     "output_type": "stream",
     "text": [
      "jsdhgfshjfg\n",
      "11\n",
      "Number of fire  0\n",
      "JSDHGFSHJFG\n"
     ]
    }
   ],
   "source": [
    "symbols = input()\n",
    "a = 0\n",
    "for symbol in symbols:\n",
    "    a += 1\n",
    "print(a)\n",
    "b = 0\n",
    "for i in range(len(symbols)):\n",
    "    if symbols[i:i+4] == 'fire':\n",
    "        b += 1\n",
    "print('Number of fire ', b)\n",
    "a = str(a)\n",
    "for i in range(len(symbols)):\n",
    "    a = a + symbols[i]\n",
    "    if symbols[i:-1] = ' '\n",
    "    \n",
    "        \n",
    "rr = symbols.upper()\n",
    "print(rr)\n",
    "if symbols[:-2] == '!!':\n",
    "    print('!!')\n"
   ]
  },
  {
   "cell_type": "code",
   "execution_count": null,
   "metadata": {},
   "outputs": [],
   "source": []
  }
 ],
 "metadata": {
  "kernelspec": {
   "display_name": "Python 3",
   "language": "python",
   "name": "python3"
  },
  "language_info": {
   "codemirror_mode": {
    "name": "ipython",
    "version": 3
   },
   "file_extension": ".py",
   "mimetype": "text/x-python",
   "name": "python",
   "nbconvert_exporter": "python",
   "pygments_lexer": "ipython3",
   "version": "3.7.2"
  }
 },
 "nbformat": 4,
 "nbformat_minor": 2
}
